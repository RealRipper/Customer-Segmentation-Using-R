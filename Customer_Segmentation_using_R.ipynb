{
  "metadata": {
    "kernelspec": {
      "name": "ir",
      "display_name": "R",
      "language": "R"
    },
    "language_info": {
      "name": "R",
      "codemirror_mode": "r",
      "pygments_lexer": "r",
      "mimetype": "text/x-r-source",
      "file_extension": ".r",
      "version": "4.0.5"
    },
    "kaggle": {
      "accelerator": "none",
      "dataSources": [
        {
          "sourceId": 74935,
          "sourceType": "datasetVersion",
          "datasetId": 42674
        }
      ],
      "dockerImageVersionId": 30372,
      "isInternetEnabled": true,
      "language": "r",
      "sourceType": "notebook",
      "isGpuEnabled": false
    },
    "colab": {
      "name": "Customer Segmentation using R",
      "provenance": []
    }
  },
  "nbformat_minor": 0,
  "nbformat": 4,
  "cells": [
    {
      "source": [
        "\n",
        "# IMPORTANT: RUN THIS CELL IN ORDER TO IMPORT YOUR KAGGLE DATA SOURCES\n",
        "# TO THE CORRECT LOCATION (/kaggle/input) IN YOUR NOTEBOOK,\n",
        "# THEN FEEL FREE TO DELETE THIS CELL.\n",
        "# NOTE: THIS NOTEBOOK ENVIRONMENT DIFFERS FROM KAGGLE'S R\n",
        "# ENVIRONMENT SO THERE MAY BE MISSING LIBRARIES USED BY YOUR\n",
        "# NOTEBOOK.\n",
        "\n",
        "DATA_SOURCE_MAPPING = 'customer-segmentation-tutorial-in-python:https%3A%2F%2Fstorage.googleapis.com%2Fkaggle-data-sets%2F42674%2F74935%2Fbundle%2Farchive.zip%3FX-Goog-Algorithm%3DGOOG4-RSA-SHA256%26X-Goog-Credential%3Dgcp-kaggle-com%2540kaggle-161607.iam.gserviceaccount.com%252F20240606%252Fauto%252Fstorage%252Fgoog4_request%26X-Goog-Date%3D20240606T125458Z%26X-Goog-Expires%3D259200%26X-Goog-SignedHeaders%3Dhost%26X-Goog-Signature%3D6fae9c51602dd89c2781173c3ef35c1c9e65c7bbc991f8847f6633cda7fd97cb53d063aa272e029ef4ae2b94a433be6823617e228af61669273e7b8f117159fa5e7833a1f7e4d95b68f52d8f8827d24f1f31e04776e1245a955aa277887fc0fb169f423e4224bfed7f82b0fce8121a17a25e84ac32c868f9465edd9bff5c29bb14350d137c641e6ea7e8d2a189ac0aac6898333fb1c2daa01ffd20c22db8e6f0af2ee1719e4024eadf768d713dc1a988c901a85ceacb108a1d76328734237116aaad2db687fafad679816cb459f6fa4eeed850c5900d47f2808876ac66af37d0fa1f8c6e768252cb8df8f07761dc18d59111dabf610b7291a9e8cb60093a5b9f'\n",
        "\n",
        "KAGGLE_INPUT_PATH = '/kaggle/input'\n",
        "KAGGLE_WORKING_PATH = '/kaggle/working'\n",
        "\n",
        "system(paste0('sudo umount ', '/kaggle/input'))\n",
        "system(paste0('sudo rmdir ', '/kaggle/input'))\n",
        "system(paste0('sudo mkdir -p -- ', KAGGLE_INPUT_PATH), intern=TRUE)\n",
        "system(paste0('sudo chmod 777 ', KAGGLE_INPUT_PATH), intern=TRUE)\n",
        "system(\n",
        "  paste0('sudo ln -sfn ', KAGGLE_INPUT_PATH,' ',file.path('..', 'input')),\n",
        "  intern=TRUE)\n",
        "\n",
        "system(paste0('sudo mkdir -p -- ', KAGGLE_WORKING_PATH), intern=TRUE)\n",
        "system(paste0('sudo chmod 777 ', KAGGLE_WORKING_PATH), intern=TRUE)\n",
        "system(\n",
        "  paste0('sudo ln -sfn ', KAGGLE_WORKING_PATH, ' ', file.path('..', 'working')),\n",
        "  intern=TRUE)\n",
        "\n",
        "data_source_mappings = strsplit(DATA_SOURCE_MAPPING, ',')[[1]]\n",
        "for (data_source_mapping in data_source_mappings) {\n",
        "    path_and_url = strsplit(data_source_mapping, ':')\n",
        "    directory = path_and_url[[1]][1]\n",
        "    download_url = URLdecode(path_and_url[[1]][2])\n",
        "    filename = sub(\"\\\\?.+\", \"\", download_url)\n",
        "    destination_path = file.path(KAGGLE_INPUT_PATH, directory)\n",
        "    print(paste0('Downloading and uncompressing: ', directory))\n",
        "    if (endsWith(filename, '.zip')){\n",
        "      temp = tempfile(fileext = '.zip')\n",
        "      download.file(download_url, temp)\n",
        "      unzip(temp, overwrite = TRUE, exdir = destination_path)\n",
        "      unlink(temp)\n",
        "    }\n",
        "    else{\n",
        "      temp = tempfile(fileext = '.tar')\n",
        "      download.file(download_url, temp)\n",
        "      untar(temp, exdir = destination_path)\n",
        "      unlink(temp)\n",
        "    }\n",
        "    print(paste0('Downloaded and uncompressed: ', directory))\n",
        "}\n",
        "\n",
        "print(paste0('Data source import complete'))\n"
      ],
      "metadata": {
        "id": "7uWfDfVgne19"
      },
      "cell_type": "code",
      "outputs": [],
      "execution_count": null
    },
    {
      "cell_type": "markdown",
      "source": [
        "# Customer Segmentation using R\n",
        "\n",
        "- Customer Segmentation is one of the most important applications of unsupervised learning. Using clustering techniques, companies can identify several segments of customers allowing them to target the potential user base. In this machine learning project, we will make use of K-means clustering which is the essential algorithm for clustering unlabeled datasets.\n",
        "\n",
        "# What is Customer Segmentation\n",
        "- Customer Segmentation is the process of dividing of the customer base into several groups of individuals that share a similarity in different ways that are relevant to marketing such as gender, age, interests, and miscellaneous spending habits.\n",
        "\n",
        "- Companies that deploy customer segmentation are under the notion that every customer has different requirements and requires a specific marketing effort to address them appropriately. Companies aim to gain a deeper approach to the customer they are targeting. Therefore, their aim has to be specific and should be tailored to address the requirements of each and every individual customer. Furthermore, through the data collected, companies can gain a deeper understanding of customer preferences as well as the requirements for discovering valuable segments that would reap them maximum profit. This way, they can strategize their marketing techniques more efficiently and minimize the possibility of risk to their investment.\n",
        "\n",
        "- The technique of customer segmentation is dependent on several key differentiators that divide customers into groups to be targeted. Data related to demographics, geography, economic status as well as behavioral patterns play a crucial role in determining the company's direction toward addressing the various segments.\n",
        "\n",
        "- Customers Segmentation has been a subject of revenue for a ton of industry, scholastics, and showcasing pioneers. The expected worth of a client to an organization can be a center fixing in dynamic. One of the huge difficulties in client-based associations is client cognizance, understanding the distinction among them, and scoring them. However, presently with all capacities we have, utilizing new innovations like AI calculation and information treatment we can make an exceptionally amazing structure that permits us to best comprehend clients' needs and practices and act suitably to fulfill their requirements. In the current paper, we propose another model dependent on the RFM model Recency, Frequency, and Monetary and k-mean calculations to determine those difficulties. This model will permit us to utilize grouping, scoring, and conveyance to have an unmistakable thought regarding what move we should make to improve consumer loyalty.\n",
        "\n",
        "# Five types of customer segmentation\n",
        "\n",
        "- Demographic Segmentation: This segmentation divides the customer market based on gender, age, occupation, etc.\n",
        "- Geographic Segmentation: This segmentation divides the customer market based on country, state, city, and locality.\n",
        "- Technographic Segmentation: This segmentation divides the customer market on the basis of apps, software, and devices.\n",
        "- Psychographic Segmentation: This segmentation divides the customer segmentation on the basis of attitudes, values, and personal traits.\n",
        "- Behavioral Segmentation: This kind of segmentation divides the customer market on the basis of actions, spending habits, and how they consume.\n",
        "\n",
        "\n",
        "# Benefit of Customer Segmentation for Business\n",
        "1. More Customer Retention\n",
        "    - Customer retention permits you to gain proficiency with an extraordinary arrangement about your clients so you can take into account their necessities all the more proficiently.  A one-on-one association with your clients will assist you with winning fulfilled clients. You can likewise tailor your correspondence relying upon the client lifecycle.\n",
        "    \n",
        "\n",
        "2. Enhances Competitiveness\n",
        "    - The better your customer retention is, the more revenue you are likely to achieve. When a business scores a good customer segmentation along with better utilization of its showcasing financial plans, it acquires a serious edge over opponent organizations. On the off chance that you section up your market, you are not able to your clients and as needs are.\n",
        "    \n",
        "\n",
        "3. Establishes Brand Identity\n",
        "    - Distinguishing your image will assist your clients with straightforwardly captivating your items. Whenever you have distinguished the vital helpers for your client, for example, plan or cost or user requirements, you can mark your items properly. By dividing your clients, you can make them very much aware of your image.\n",
        "    \n",
        "\n",
        "4. Better Customer Relationship\n",
        "    - Breaking down a huge client base into more reasonable pieces, making it simpler to distinguish your intended interest group and dispatch missions to the most significant individuals, utilizing the most important channel. This creates a good customer relationship as they feel welcomed and heard.\n",
        "    \n",
        "\n",
        "5. Leads to Price Optimization\n",
        "    - No business is successful without a good customer base. In order to have one, you need to cater to their primary issues like what their income range is while setting a price for a particular product. This is what price optimization is. The better suited your product price range is according to a customer’s budget, the more your customers will buy it.\n",
        "    \n",
        "\n",
        "6. Best Economies of Scale\n",
        "    - Economies of scale is a position where you can reach your specific goal at the minimum cost possible. This can be done through efficient customer segmentation as it helps divide customers into different segments and later, you can focus on limited resources being cost-effective.\n",
        "    \n",
        "\n",
        "7. Improves Channel of Distribution\n",
        "    - Customer segmentation can help with distinguishing where clients shop and when can educationally shape item dissemination systems, for example, what sort of items are sold at specific outlets. This will eliminate disarray among your colleagues about whom they need to convey the item and at what time.\n",
        "    \n",
        "\n",
        "8. It Allows You to Fine-Tune Your Message\n",
        "    - Dividing customers into segments can actually help you identify what kind of audience you are targeting and hence, can help you deliver your message accordingly. One way to convert visitors into customers is by grabbing their attention and this can be done through customer segmentation.\n",
        "    \n",
        "\n",
        "9. Increases Your Revenue\n",
        "    - During the way toward gathering your clients into groups, you may find that you have recognized another market portion, which could thus adjust your advertising center and procedure to fit. This channel of ideas from customer preferences is what will help you convince them to buy your product hence generating a greater portion of revenue for you.\n",
        "    \n",
        "\n",
        "10. Increase Brand Awareness\n",
        "    - Customizing marketing correspondence for clients prompts a superior connection between the client and the business. This can significantly improve client devotion. Recognizing your client as beyond what another individual from your email data set can go far for your image value.\n",
        "    \n",
        "\n",
        "\n",
        "Reference: [Understanding the Benefits of Customer Segmentation](https://bython.com/benefits-of-customer-segmentation/)\n"
      ],
      "metadata": {
        "_uuid": "051d70d956493feee0c6d64651c6a088724dca2a",
        "_execution_state": "idle",
        "execution": {
          "iopub.status.busy": "2023-02-03T16:06:45.107222Z",
          "iopub.execute_input": "2023-02-03T16:06:45.109426Z",
          "iopub.status.idle": "2023-02-03T16:06:45.224448Z"
        },
        "id": "QsfeTHV9ne2A"
      }
    },
    {
      "cell_type": "markdown",
      "source": [
        "# How to Implement Customer Segmentation in R\n",
        "- In the first step of this data science project, we will perform data exploration. We will import the essential packages required for this role and then read our data. Finally, we will go through the input data to gain necessary insights about it."
      ],
      "metadata": {
        "id": "fpTqBWJ0ne2C"
      }
    },
    {
      "cell_type": "markdown",
      "source": [
        "# Data Exploration"
      ],
      "metadata": {
        "id": "ZQ9YZWptne2C"
      }
    },
    {
      "cell_type": "code",
      "source": [
        "customer_data=read.csv(\"/kaggle/input/customer-segmentation-tutorial-in-python/Mall_Customers.csv\")"
      ],
      "metadata": {
        "execution": {
          "iopub.status.busy": "2024-05-17T07:56:56.873893Z",
          "iopub.execute_input": "2024-05-17T07:56:56.876999Z",
          "iopub.status.idle": "2024-05-17T07:56:57.020087Z"
        },
        "trusted": true,
        "id": "1634Qmtune2D"
      },
      "execution_count": null,
      "outputs": []
    },
    {
      "cell_type": "code",
      "source": [
        "str(customer_data)"
      ],
      "metadata": {
        "execution": {
          "iopub.status.busy": "2024-05-17T07:56:57.024609Z",
          "iopub.execute_input": "2024-05-17T07:56:57.071981Z",
          "iopub.status.idle": "2024-05-17T07:56:57.102239Z"
        },
        "trusted": true,
        "id": "qRvFZ2dZne2D"
      },
      "execution_count": null,
      "outputs": []
    },
    {
      "cell_type": "code",
      "source": [
        "names(customer_data)"
      ],
      "metadata": {
        "execution": {
          "iopub.status.busy": "2024-05-17T07:56:57.107122Z",
          "iopub.execute_input": "2024-05-17T07:56:57.109127Z",
          "iopub.status.idle": "2024-05-17T07:56:57.137128Z"
        },
        "trusted": true,
        "id": "ZeWnQiaVne2D"
      },
      "execution_count": null,
      "outputs": []
    },
    {
      "cell_type": "markdown",
      "source": [
        "- We will now display the first six rows of our dataset using the head() function and use the summary() function to output the summary of it:"
      ],
      "metadata": {
        "id": "XqF9ar-3ne2D"
      }
    },
    {
      "cell_type": "code",
      "source": [
        "head(customer_data)"
      ],
      "metadata": {
        "execution": {
          "iopub.status.busy": "2024-05-17T07:56:57.139893Z",
          "iopub.execute_input": "2024-05-17T07:56:57.141535Z",
          "iopub.status.idle": "2024-05-17T07:56:57.176352Z"
        },
        "trusted": true,
        "id": "c0BHrbw7ne2E"
      },
      "execution_count": null,
      "outputs": []
    },
    {
      "cell_type": "code",
      "source": [
        "summary(customer_data$Age)"
      ],
      "metadata": {
        "execution": {
          "iopub.status.busy": "2024-05-17T07:56:57.179195Z",
          "iopub.execute_input": "2024-05-17T07:56:57.180933Z",
          "iopub.status.idle": "2024-05-17T07:56:57.210098Z"
        },
        "trusted": true,
        "id": "Q_yq7NVVne2E"
      },
      "execution_count": null,
      "outputs": []
    },
    {
      "cell_type": "code",
      "source": [
        "sd(customer_data$Age)"
      ],
      "metadata": {
        "execution": {
          "iopub.status.busy": "2024-05-17T07:56:57.213014Z",
          "iopub.execute_input": "2024-05-17T07:56:57.214623Z",
          "iopub.status.idle": "2024-05-17T07:56:57.234221Z"
        },
        "trusted": true,
        "id": "RM3GT30Zne2F"
      },
      "execution_count": null,
      "outputs": []
    },
    {
      "cell_type": "code",
      "source": [
        "summary(customer_data$Annual.Income..k..)"
      ],
      "metadata": {
        "execution": {
          "iopub.status.busy": "2024-05-17T07:56:57.236947Z",
          "iopub.execute_input": "2024-05-17T07:56:57.238542Z",
          "iopub.status.idle": "2024-05-17T07:56:57.257635Z"
        },
        "trusted": true,
        "id": "gJLbfgX0ne2F"
      },
      "execution_count": null,
      "outputs": []
    },
    {
      "cell_type": "code",
      "source": [
        "sd(customer_data$Annual.Income..k..)"
      ],
      "metadata": {
        "execution": {
          "iopub.status.busy": "2024-05-17T07:56:57.260385Z",
          "iopub.execute_input": "2024-05-17T07:56:57.262036Z",
          "iopub.status.idle": "2024-05-17T07:56:57.280942Z"
        },
        "trusted": true,
        "id": "kOBO38iMne2F"
      },
      "execution_count": null,
      "outputs": []
    },
    {
      "cell_type": "code",
      "source": [
        "summary(customer_data$Age)"
      ],
      "metadata": {
        "execution": {
          "iopub.status.busy": "2024-05-17T07:56:57.289107Z",
          "iopub.execute_input": "2024-05-17T07:56:57.290743Z",
          "iopub.status.idle": "2024-05-17T07:56:57.31075Z"
        },
        "trusted": true,
        "id": "xX6FC2ZNne2F"
      },
      "execution_count": null,
      "outputs": []
    },
    {
      "cell_type": "code",
      "source": [
        "sd(customer_data$Spending.Score..1.100.)"
      ],
      "metadata": {
        "execution": {
          "iopub.status.busy": "2024-05-17T07:56:57.313402Z",
          "iopub.execute_input": "2024-05-17T07:56:57.314937Z",
          "iopub.status.idle": "2024-05-17T07:56:57.333988Z"
        },
        "trusted": true,
        "id": "HQGMVV-Hne2F"
      },
      "execution_count": null,
      "outputs": []
    },
    {
      "cell_type": "markdown",
      "source": [
        "# Customer Gender Visualization\n",
        "- Create a barplot and a piechart to show the gender distribution across our customer_data dataset."
      ],
      "metadata": {
        "id": "1tMekqqqne2G"
      }
    },
    {
      "cell_type": "code",
      "source": [
        "a=table(customer_data$Gender)\n",
        "barplot(a,main=\"Using BarPlot to display Gender Comparision\",\n",
        "       ylab=\"Count\",\n",
        "       xlab=\"Gender\",\n",
        "       col=rainbow(2),\n",
        "       legend=rownames(a))"
      ],
      "metadata": {
        "execution": {
          "iopub.status.busy": "2024-05-17T07:56:57.336746Z",
          "iopub.execute_input": "2024-05-17T07:56:57.338371Z",
          "iopub.status.idle": "2024-05-17T07:56:57.627538Z"
        },
        "trusted": true,
        "id": "e75tZj7vne2G"
      },
      "execution_count": null,
      "outputs": []
    },
    {
      "cell_type": "markdown",
      "source": [
        "- From the above barplot, we observe that the number of females is higher than the number of males."
      ],
      "metadata": {
        "id": "6vCIEBQ-ne2G"
      }
    },
    {
      "cell_type": "markdown",
      "source": [
        "### Visualize a pie chart to observe the ratio of male and female distribution:"
      ],
      "metadata": {
        "id": "gNrGZ7zine2G"
      }
    },
    {
      "cell_type": "code",
      "source": [
        "pct=round(a/sum(a)*100)\n",
        "lbs=paste(c(\"Female\",\"Male\"),\" \",pct,\"%\",sep=\" \")\n",
        "library(plotrix)\n",
        "pie3D(a,labels=lbs,\n",
        "   main=\"Pie Chart Depicting Ratio of Female and Male\")"
      ],
      "metadata": {
        "execution": {
          "iopub.status.busy": "2024-05-17T07:56:57.630299Z",
          "iopub.execute_input": "2024-05-17T07:56:57.631964Z",
          "iopub.status.idle": "2024-05-17T07:56:57.788678Z"
        },
        "trusted": true,
        "id": "vx7fJc_Ane2G"
      },
      "execution_count": null,
      "outputs": []
    },
    {
      "cell_type": "markdown",
      "source": [
        "- From the above graph, we conclude that the percentage of females is 56%, whereas the percentage of male in the customer dataset is 44%."
      ],
      "metadata": {
        "id": "oert3DNVne2H"
      }
    },
    {
      "cell_type": "markdown",
      "source": [
        "# Visualization of Age Distribution\n",
        "- Plot a histogram to view the distribution to plot the frequency of customer ages. We will first proceed by taking a summary of the Age variable."
      ],
      "metadata": {
        "id": "kAD11U_pne2H"
      }
    },
    {
      "cell_type": "code",
      "source": [
        "summary(customer_data$Age)"
      ],
      "metadata": {
        "execution": {
          "iopub.status.busy": "2024-05-17T07:56:57.791192Z",
          "iopub.execute_input": "2024-05-17T07:56:57.792686Z",
          "iopub.status.idle": "2024-05-17T07:56:57.858497Z"
        },
        "trusted": true,
        "id": "L3UJ4zyUne2H"
      },
      "execution_count": null,
      "outputs": []
    },
    {
      "cell_type": "markdown",
      "source": [
        "# Show Count of Age Class"
      ],
      "metadata": {
        "id": "XESeUyGkne2H"
      }
    },
    {
      "cell_type": "code",
      "source": [
        "hist(customer_data$Age,\n",
        "    col=\"blue\",\n",
        "    main=\"Histogram to Show Count of Age Class\",\n",
        "    xlab=\"Age Class\",\n",
        "    ylab=\"Frequency\",\n",
        "    labels=TRUE)"
      ],
      "metadata": {
        "execution": {
          "iopub.status.busy": "2024-05-17T07:56:57.862263Z",
          "iopub.execute_input": "2024-05-17T07:56:57.864263Z",
          "iopub.status.idle": "2024-05-17T07:56:57.957502Z"
        },
        "trusted": true,
        "id": "Z8Q3uRIone2H"
      },
      "execution_count": null,
      "outputs": []
    },
    {
      "cell_type": "markdown",
      "source": [
        "# Descriptive Analysis of Age"
      ],
      "metadata": {
        "id": "HFdCSlfGne2I"
      }
    },
    {
      "cell_type": "code",
      "source": [
        "boxplot(customer_data$Age,\n",
        "       col=\"#ff0066\",\n",
        "       main=\"Boxplot for Descriptive Analysis of Age\")"
      ],
      "metadata": {
        "execution": {
          "iopub.status.busy": "2024-05-17T07:56:57.960089Z",
          "iopub.execute_input": "2024-05-17T07:56:57.961571Z",
          "iopub.status.idle": "2024-05-17T07:56:58.050197Z"
        },
        "trusted": true,
        "id": "JteWQvpBne2I"
      },
      "execution_count": null,
      "outputs": []
    },
    {
      "cell_type": "markdown",
      "source": [
        "- From the above two visualizations, we conclude that the maximum customer ages are between 30 and 35. The minimum age of customers is 18, whereas, the maximum age is 70."
      ],
      "metadata": {
        "id": "MAXm6VNAne2I"
      }
    },
    {
      "cell_type": "markdown",
      "source": [
        "# Analysis of the Annual Income of the Customers\n",
        "- Create visualizations to analyze the annual income of the customers. We will plot a histogram and then we will proceed to examine this data using a density plot."
      ],
      "metadata": {
        "id": "soGPe24nne2I"
      }
    },
    {
      "cell_type": "markdown",
      "source": [
        "# Histogram for Annual Income"
      ],
      "metadata": {
        "id": "k4tsly1dne2I"
      }
    },
    {
      "cell_type": "code",
      "source": [
        "summary(customer_data$Annual.Income..k..)\n",
        "hist(customer_data$Annual.Income..k..,\n",
        "  col=\"#660033\",\n",
        "  main=\"Histogram for Annual Income\",\n",
        "  xlab=\"Annual Income Class\",\n",
        "  ylab=\"Frequency\",\n",
        "  labels=TRUE)"
      ],
      "metadata": {
        "execution": {
          "iopub.status.busy": "2024-05-17T07:56:58.057222Z",
          "iopub.execute_input": "2024-05-17T07:56:58.058876Z",
          "iopub.status.idle": "2024-05-17T07:56:58.15474Z"
        },
        "trusted": true,
        "id": "jvRXHwqOne2I"
      },
      "execution_count": null,
      "outputs": []
    },
    {
      "cell_type": "markdown",
      "source": [
        "# Density Plot for Annual Income"
      ],
      "metadata": {
        "id": "f--E8byAne2I"
      }
    },
    {
      "cell_type": "code",
      "source": [
        "plot(density(customer_data$Annual.Income..k..),\n",
        "    col=\"yellow\",\n",
        "    main=\"Density Plot for Annual Income\",\n",
        "    xlab=\"Annual Income Class\",\n",
        "    ylab=\"Density\")\n",
        "polygon(density(customer_data$Annual.Income..k..),\n",
        "        col=\"#ccff66\")"
      ],
      "metadata": {
        "execution": {
          "iopub.status.busy": "2024-05-17T07:56:58.157259Z",
          "iopub.execute_input": "2024-05-17T07:56:58.158736Z",
          "iopub.status.idle": "2024-05-17T07:56:58.266405Z"
        },
        "trusted": true,
        "id": "3IS4VG9pne2J"
      },
      "execution_count": null,
      "outputs": []
    },
    {
      "cell_type": "markdown",
      "source": [
        "- From the above descriptive analysis, we conclude that the minimum annual income of the customers is 15 and the maximum income is 137.\n",
        "- People earning an average income of 70 have the highest frequency count in our histogram distribution.\n",
        "- The average salary of all the customers is 60.56.\n",
        "- In the Kernel Density Plot that we displayed above, we observe that the annual income has a normal distribution."
      ],
      "metadata": {
        "id": "6EAhDUa1ne2J"
      }
    },
    {
      "cell_type": "markdown",
      "source": [
        "# Analyzing Spending Score of the Customers"
      ],
      "metadata": {
        "id": "5_zCXkVTne2J"
      }
    },
    {
      "cell_type": "code",
      "source": [
        "summary(customer_data$Spending.Score..1.100.)"
      ],
      "metadata": {
        "execution": {
          "iopub.status.busy": "2024-05-17T07:56:58.269272Z",
          "iopub.execute_input": "2024-05-17T07:56:58.27091Z",
          "iopub.status.idle": "2024-05-17T07:56:58.292128Z"
        },
        "trusted": true,
        "id": "VQcsBlAane2J"
      },
      "execution_count": null,
      "outputs": []
    },
    {
      "cell_type": "markdown",
      "source": [
        "# Descriptive Analysis of Spending Score"
      ],
      "metadata": {
        "id": "bA5vY9urne2J"
      }
    },
    {
      "cell_type": "code",
      "source": [
        "boxplot(customer_data$Spending.Score..1.100.,\n",
        "   horizontal=TRUE,\n",
        "   col=\"#990000\",\n",
        "   main=\"BoxPlot for Descriptive Analysis of Spending Score\")"
      ],
      "metadata": {
        "execution": {
          "iopub.status.busy": "2024-05-17T07:56:58.294549Z",
          "iopub.execute_input": "2024-05-17T07:56:58.296308Z",
          "iopub.status.idle": "2024-05-17T07:56:58.384531Z"
        },
        "trusted": true,
        "id": "Ldw9c_B0ne2J"
      },
      "execution_count": null,
      "outputs": []
    },
    {
      "cell_type": "markdown",
      "source": [
        "# Spending Score Class"
      ],
      "metadata": {
        "id": "n_eZrl1ine2K"
      }
    },
    {
      "cell_type": "code",
      "source": [
        "hist(customer_data$Spending.Score..1.100.,\n",
        "    main=\"HistoGram for Spending Score\",\n",
        "    xlab=\"Spending Score Class\",\n",
        "    ylab=\"Frequency\",\n",
        "    col=\"#6600cc\",\n",
        "    labels=TRUE)"
      ],
      "metadata": {
        "execution": {
          "iopub.status.busy": "2024-05-17T07:56:58.38695Z",
          "iopub.execute_input": "2024-05-17T07:56:58.388405Z",
          "iopub.status.idle": "2024-05-17T07:56:58.475514Z"
        },
        "trusted": true,
        "id": "qMGZPZhlne2Y"
      },
      "execution_count": null,
      "outputs": []
    },
    {
      "cell_type": "markdown",
      "source": [
        "- The minimum spending score is 1, the maximum is 99 and the average is 50.20. We can see the Descriptive Analysis of the Spending Score is that Min is 1, Max is 99 and avg. is 50.20. From the histogram, we conclude that customers between classes 40 and 50 have the highest spending score among all the classes."
      ],
      "metadata": {
        "id": "dnjNHK-Kne2Z"
      }
    },
    {
      "cell_type": "markdown",
      "source": [
        "# K-Means Algorithm\n",
        "- K-Means is one of the most popular \"clustering\" algorithms. K-means stores $k$ centroids that it uses to define clusters. A point is considered to be in a particular cluster if it is closer to that cluster's centroid than any other centroid.\n",
        "\n",
        "- K-Means finds the best centroids by alternating between (1) assigning data points to clusters based on the current centroids (2) chosing centroids (points which are the center of a cluster) based on the current assignment of data points to clusters.\n",
        "\n",
        "- K-Means is really just the EM (Expectation Maximization) algorithm applied to a particular naive bayes model.\n",
        "\n",
        "Reference: [Stanford](https://stanford.edu/~cpiech/cs221/handouts/kmeans.html)\n",
        "\n",
        "- While using the k-means clustering algorithm, the first step is to indicate the number of clusters (k) that we wish to produce in the final output. The algorithm starts by selecting k objects from the dataset randomly that will serve as the initial centers for our clusters. These selected objects are the cluster means, also known as centroids. Then, the remaining objects have an assignment of the closest centroid. This centroid is defined by the Euclidean Distance present between the object and the cluster mean. We refer to this step as “cluster assignment”. When the assignment is complete, the algorithm proceeds to calculate the new mean value of each cluster present in the data. After the recalculation of the centers, the observations are checked if they are closer to a different cluster. Using the updated cluster mean, the objects undergo reassignment. This goes on repeatedly through several iterations until the cluster assignments stop altering. The clusters that are present in the current iteration are the same as the ones obtained in the previous iteration.\n",
        "\n",
        "- The k-means clustering method is an unsupervised machine learning technique used to identify clusters of data objects in a dataset. There are many different types of clustering methods, but k-means is one of the oldest and most approachable. These traits make implementing k-means clustering in Python reasonably straightforward, even for novice programmers and data analysts.\n",
        "\n",
        "# K-Means clustering\n",
        "\n",
        "- We specify the number of clusters that we need to create.\n",
        "- The algorithm selects k objects at random from the dataset. This object is the initial cluster or mean.\n",
        "- The closest centroid obtains the assignment of a new observation. We base this assignment on the Euclidean Distance between the object and the centroid.\n",
        "- k clusters in the data points update the centroid through the calculation of the new mean values present in all the data points of the cluster. The kth cluster’s centroid has a length of p that contains the means of all variables for observations in the kth cluster. We denote the number of variables with p.\n",
        "- Iterative minimization of the total within the sum of squares. Then through the iterative minimization of the total sum of the square, the assignment stops wavering when we achieve maximum iteration. The default value is 10 which the R software uses for the maximum iterations.\n",
        "\n",
        "# What Is Clustering\n",
        "- Clustering is a set of techniques used to partition data into groups, or clusters. Clusters are loosely defined as groups of data objects that are more similar to other objects in their cluster than they are to data objects in other clusters. In practice, clustering helps identify two qualities of data:\n",
        "\n",
        "    - Meaningfulness:\n",
        "    \n",
        "        - Meaningful clusters expand domain knowledge. For example, in the medical field, researchers applied clustering to gene expression experiments. The clustering results identified groups of patients who respond differently to medical treatments.\n",
        "\n",
        "    - Usefulness\n",
        "    \n",
        "        - Useful clusters, on the other hand, serve as an intermediate step in a data pipeline. For example, businesses use clustering for customer segmentation. The clustering results segment customers into groups with similar purchase histories, which businesses can then use to create targeted advertising campaigns.\n",
        "\n",
        "# Understanding the K-Means Algorithm\n",
        "- Conventional k-means require only a few steps. The first step is to randomly select k centroids, where k is equal to the number of clusters you choose. Centroids are data points representing the center of a cluster.\n",
        "\n",
        "- The main element of the algorithm works by a two-step process called expectation maximization. The expectation step assigns each data point to its nearest centroid. Then, the maximization step computes the mean of all the points for each cluster and sets the new centroid.\n",
        "\n",
        "Reference1: [RealPython](https://realpython.com/k-means-clustering-python/#understanding-the-k-means-algorithm)\n",
        "\n",
        "Reference2: [ScienceDirect](https://www.sciencedirect.com/science/article/abs/pii/S0020025522014633)\n",
        "\n",
        "Reference3: [AFIT](https://afit-r.github.io/kmeans_clustering)"
      ],
      "metadata": {
        "id": "ffRmruFfne2Z"
      }
    },
    {
      "cell_type": "markdown",
      "source": [
        "# Determining Optimal Clusters\n",
        "- While working with clusters, you need to specify the number of clusters to use. You would like to utilize the optimal number of clusters. To help you in determining the optimal clusters, there are three popular methods:\n",
        "    - Elbow method\n",
        "    - Silhouette method\n",
        "    - Gap statistic"
      ],
      "metadata": {
        "id": "WUJipnZbne2Z"
      }
    },
    {
      "cell_type": "markdown",
      "source": [
        "# Elbow Method\n",
        "- In cluster analysis, the elbow method is a heuristic used in determining the number of clusters in a data set. The method consists of plotting the explained variation as a function of the number of clusters and picking the elbow of the curve as the number of clusters to use.\n",
        "- The main goal behind cluster partitioning methods like k-means is to define the clusters such that the intra-cluster variation stays minimum.\n",
        "\n",
        "### Step by Step Elbow Method:\n",
        "1) Select the number of clusters for the dataset ( K )\n",
        "\n",
        "2) Select K number of centroids\n",
        "\n",
        "3) By calculating the Euclidean distance or Manhattan distance assign the points to the nearest centroid, thus creating K groups\n",
        "\n",
        "4) Now find the original centroid in each group\n",
        "\n",
        "5) Again reassign the whole data point based on this new centroid, then repeat step 4 until the position of the centroid doesn’t change.\n",
        "\n",
        "\n",
        "Reference: [Analytics Vidhya](https://www.analyticsvidhya.com/blog/2021/01/in-depth-intuition-of-k-means-clustering-algorithm-in-machine-learning/)"
      ],
      "metadata": {
        "id": "sx43YK7Lne2Z"
      }
    },
    {
      "cell_type": "code",
      "source": [
        "library(purrr)\n",
        "set.seed(123)\n",
        "\n",
        "# function to calculate total intra-cluster sum of square\n",
        "iss <- function(k) {\n",
        "  kmeans(customer_data[,3:5],k,iter.max=100,nstart=100,algorithm=\"Lloyd\" )$tot.withinss\n",
        "}\n",
        "k.values <- 1:10\n",
        "iss_values <- map_dbl(k.values, iss)\n",
        "plot(k.values, iss_values,\n",
        "    type=\"b\", pch = 19, frame = FALSE,\n",
        "    xlab=\"Number of clusters K\",\n",
        "    ylab=\"Total intra-clusters sum of squares\")"
      ],
      "metadata": {
        "execution": {
          "iopub.status.busy": "2024-05-17T07:56:58.477966Z",
          "iopub.execute_input": "2024-05-17T07:56:58.47942Z",
          "iopub.status.idle": "2024-05-17T07:56:58.702385Z"
        },
        "trusted": true,
        "id": "VZkZnxg8ne2Z"
      },
      "execution_count": null,
      "outputs": []
    },
    {
      "cell_type": "markdown",
      "source": [
        "- From the above graph, we conclude that 4 is the appropriate number of clusters since it seems to be appearing at the bend in the elbow plot."
      ],
      "metadata": {
        "id": "LQaONt3hne2a"
      }
    },
    {
      "cell_type": "markdown",
      "source": [
        "# Average Silhouette Method\n",
        "- The average silhouette approach measures the quality of a clustering. That is, it determines how well each object lies within its cluster. A high average silhouette width indicates good clustering. The average silhouette method computes the average silhouette of observations for different values of k. The optimal number of clusters k is the one that maximizes the average silhouette over a range of possible values for k^2\n",
        "\n",
        "- We can use the silhouette function in the cluster package to compute the average silhouette width. The following code computes this approach for 1-15 clusters. The results show that 2 clusters maximize the average silhouette values with 4 clusters coming in as the second optimal number of clusters.\n",
        "\n",
        "    - The silhouette coefficient or silhouette score kmeans is a measure of how similar a data point is within-cluster (cohesion) compared to other clusters (separation:\n",
        "\n",
        "        - Select a range of values of k (say 1 to 10).\n",
        "        - Plot Silhouette coefﬁcient for each value of K.\n",
        "\n",
        "Reference: [Analytics Vidhya](https://www.analyticsvidhya.com/blog/2021/05/k-mean-getting-the-optimal-number-of-clusters/)\n",
        "\n",
        "- With the help of the average silhouette method, we can measure the quality of our clustering operation. With this, we can determine how well within the cluster is the data object. If we obtain a high average silhouette width, it means that we have good clustering. The average silhouette method calculates the mean of silhouette observations for different k values. With the optimal number of k clusters, one can maximize the average silhouette over significant values for k clusters.\n",
        "\n",
        "- Using the silhouette function in the cluster package, we can compute the average silhouette width using the K-Mean function. Here, the optimal cluster will possess the highest average."
      ],
      "metadata": {
        "id": "ZrngoT2xne2a"
      }
    },
    {
      "cell_type": "code",
      "source": [
        "library(cluster)  # Finding Groups in Data\n",
        "library(gridExtra)  # Miscellaneous Functions for \"Grid\" Graphics\n",
        "library(grid)"
      ],
      "metadata": {
        "execution": {
          "iopub.status.busy": "2024-05-17T07:56:58.704905Z",
          "iopub.execute_input": "2024-05-17T07:56:58.706395Z",
          "iopub.status.idle": "2024-05-17T07:56:58.828404Z"
        },
        "trusted": true,
        "id": "dgZO9EUvne2a"
      },
      "execution_count": null,
      "outputs": []
    },
    {
      "cell_type": "code",
      "source": [
        "k2<-kmeans(customer_data[,3:5],2,iter.max=100,nstart=50,algorithm=\"Lloyd\")\n",
        "s2<-plot(silhouette(k2$cluster,dist(customer_data[,3:5],\"euclidean\")))"
      ],
      "metadata": {
        "execution": {
          "iopub.status.busy": "2024-05-17T07:56:58.830966Z",
          "iopub.execute_input": "2024-05-17T07:56:58.83246Z",
          "iopub.status.idle": "2024-05-17T07:56:58.942547Z"
        },
        "trusted": true,
        "id": "p5mwPpGvne2a"
      },
      "execution_count": null,
      "outputs": []
    },
    {
      "cell_type": "code",
      "source": [
        "k3<-kmeans(customer_data[,3:5],3,iter.max=100,nstart=50,algorithm=\"Lloyd\")\n",
        "s3<-plot(silhouette(k3$cluster,dist(customer_data[,3:5],\"euclidean\")))"
      ],
      "metadata": {
        "execution": {
          "iopub.status.busy": "2024-05-17T07:56:59.060601Z",
          "iopub.execute_input": "2024-05-17T07:56:59.062086Z",
          "iopub.status.idle": "2024-05-17T07:56:59.155362Z"
        },
        "trusted": true,
        "id": "6LoeVvcLne2a"
      },
      "execution_count": null,
      "outputs": []
    },
    {
      "cell_type": "code",
      "source": [
        "k4<-kmeans(customer_data[,3:5],4,iter.max=100,nstart=50,algorithm=\"Lloyd\")\n",
        "s4<-plot(silhouette(k4$cluster,dist(customer_data[,3:5],\"euclidean\")))"
      ],
      "metadata": {
        "execution": {
          "iopub.status.busy": "2024-05-17T07:56:59.157727Z",
          "iopub.execute_input": "2024-05-17T07:56:59.159688Z",
          "iopub.status.idle": "2024-05-17T07:56:59.256068Z"
        },
        "trusted": true,
        "id": "7roP3lHHne2b"
      },
      "execution_count": null,
      "outputs": []
    },
    {
      "cell_type": "code",
      "source": [
        "k5<-kmeans(customer_data[,3:5],5,iter.max=100,nstart=50,algorithm=\"Lloyd\")\n",
        "s5<-plot(silhouette(k5$cluster,dist(customer_data[,3:5],\"euclidean\")))"
      ],
      "metadata": {
        "execution": {
          "iopub.status.busy": "2024-05-17T07:56:59.258384Z",
          "iopub.execute_input": "2024-05-17T07:56:59.259779Z",
          "iopub.status.idle": "2024-05-17T07:56:59.358066Z"
        },
        "trusted": true,
        "id": "DHhL9emOne2b"
      },
      "execution_count": null,
      "outputs": []
    },
    {
      "cell_type": "code",
      "source": [
        "k6<-kmeans(customer_data[,3:5],6,iter.max=100,nstart=50,algorithm=\"Lloyd\")\n",
        "s6<-plot(silhouette(k6$cluster,dist(customer_data[,3:5],\"euclidean\")))"
      ],
      "metadata": {
        "execution": {
          "iopub.status.busy": "2024-05-17T07:56:59.360555Z",
          "iopub.execute_input": "2024-05-17T07:56:59.362082Z",
          "iopub.status.idle": "2024-05-17T07:56:59.469158Z"
        },
        "trusted": true,
        "id": "9eNw5Wumne2b"
      },
      "execution_count": null,
      "outputs": []
    },
    {
      "cell_type": "code",
      "source": [
        "k7<-kmeans(customer_data[,3:5],7,iter.max=100,nstart=50,algorithm=\"Lloyd\")\n",
        "s7<-plot(silhouette(k7$cluster,dist(customer_data[,3:5],\"euclidean\")))"
      ],
      "metadata": {
        "execution": {
          "iopub.status.busy": "2024-05-17T07:56:59.471624Z",
          "iopub.execute_input": "2024-05-17T07:56:59.473139Z",
          "iopub.status.idle": "2024-05-17T07:56:59.581861Z"
        },
        "trusted": true,
        "id": "PmyzZk14ne2b"
      },
      "execution_count": null,
      "outputs": []
    },
    {
      "cell_type": "code",
      "source": [
        "k8<-kmeans(customer_data[,3:5],8,iter.max=100,nstart=50,algorithm=\"Lloyd\")\n",
        "s8<-plot(silhouette(k8$cluster,dist(customer_data[,3:5],\"euclidean\")))"
      ],
      "metadata": {
        "execution": {
          "iopub.status.busy": "2024-05-17T07:56:59.584481Z",
          "iopub.execute_input": "2024-05-17T07:56:59.58609Z",
          "iopub.status.idle": "2024-05-17T07:56:59.699571Z"
        },
        "trusted": true,
        "id": "JKAipXSdne2b"
      },
      "execution_count": null,
      "outputs": []
    },
    {
      "cell_type": "code",
      "source": [
        "k9<-kmeans(customer_data[,3:5],9,iter.max=100,nstart=50,algorithm=\"Lloyd\")\n",
        "s9<-plot(silhouette(k9$cluster,dist(customer_data[,3:5],\"euclidean\")))"
      ],
      "metadata": {
        "execution": {
          "iopub.status.busy": "2024-05-17T07:56:59.702134Z",
          "iopub.execute_input": "2024-05-17T07:56:59.70366Z",
          "iopub.status.idle": "2024-05-17T07:56:59.817449Z"
        },
        "trusted": true,
        "id": "fHm_vYZhne2c"
      },
      "execution_count": null,
      "outputs": []
    },
    {
      "cell_type": "code",
      "source": [
        "k10<-kmeans(customer_data[,3:5],10,iter.max=100,nstart=50,algorithm=\"Lloyd\")\n",
        "s10<-plot(silhouette(k10$cluster,dist(customer_data[,3:5],\"euclidean\")))"
      ],
      "metadata": {
        "execution": {
          "iopub.status.busy": "2024-05-17T07:56:59.819889Z",
          "iopub.execute_input": "2024-05-17T07:56:59.821339Z",
          "iopub.status.idle": "2024-05-17T07:56:59.934006Z"
        },
        "trusted": true,
        "id": "z9guwuYXne2c"
      },
      "execution_count": null,
      "outputs": []
    },
    {
      "cell_type": "markdown",
      "source": [
        "# Determine and visualize the optimal number of clusters\n",
        "Reference: [factoextra](https://rpkgs.datanovia.com/factoextra/reference/fviz_nbclust.html)"
      ],
      "metadata": {
        "id": "VIJeG4DJne2c"
      }
    },
    {
      "cell_type": "markdown",
      "source": [
        "### We make use of the fviz_nbclust() function to determine and visualize the optimal number of clusters as follows:"
      ],
      "metadata": {
        "id": "QdrRr1Kcne2c"
      }
    },
    {
      "cell_type": "code",
      "source": [
        "packageurl <- \"https://cran.r-project.org/src/contrib/Archive/emmeans/emmeans_1.7.0.tar.gz\"\n",
        "install.packages(packageurl, repos=NULL, type=\"source\")\n",
        "install.packages(\"factoextra\")"
      ],
      "metadata": {
        "execution": {
          "iopub.status.busy": "2024-05-17T07:56:59.937018Z",
          "iopub.execute_input": "2024-05-17T07:56:59.938611Z",
          "iopub.status.idle": "2024-05-17T07:58:34.97523Z"
        },
        "trusted": true,
        "id": "-Kg03JUyne2c"
      },
      "execution_count": null,
      "outputs": []
    },
    {
      "cell_type": "code",
      "source": [
        "library(NbClust)\n",
        "library(factoextra)  # Extract and Visualize the Results of Multivariate Data Analyses"
      ],
      "metadata": {
        "execution": {
          "iopub.status.busy": "2024-05-17T07:58:34.978238Z",
          "iopub.execute_input": "2024-05-17T07:58:34.980005Z",
          "iopub.status.idle": "2024-05-17T07:58:35.166503Z"
        },
        "trusted": true,
        "id": "ll32mUjMne2c"
      },
      "execution_count": null,
      "outputs": []
    },
    {
      "cell_type": "code",
      "source": [
        "fviz_nbclust(customer_data[,3:5], kmeans, method = \"silhouette\")"
      ],
      "metadata": {
        "execution": {
          "iopub.status.busy": "2024-05-17T07:58:35.169312Z",
          "iopub.execute_input": "2024-05-17T07:58:35.17102Z",
          "iopub.status.idle": "2024-05-17T07:58:35.952322Z"
        },
        "trusted": true,
        "id": "zsTbOhpane2c"
      },
      "execution_count": null,
      "outputs": []
    },
    {
      "cell_type": "markdown",
      "source": [
        "# Gap Statistic Method\n",
        "- Abstract The Gap statistic is a standard method for determining the number of clusters in a set of data. The Gap statistic standardizes the graph of log(Wk), where Wk is the within-cluster dispersion, by comparing it to its expectation under an appropriate null reference distribution of the data.\n",
        "- The gap statistic has been published by [R. Tibshirani, G. Walther, and T. Hastie (Standford University, 2001)](http://web.stanford.edu/~hastie/Papers/gap.pdf).\n",
        "- The ‘gap statistic’ for estimating the number of clusters (groups) in a set of data. The technique uses the output of any clustering algorithm (e.g. K-means or hierarchical), comparing the change in within-cluster dispersion with that expected under an appropriate reference null distribution.\n",
        "- Clustering is an important technique in Pattern Analysis to identify distinct groups in data. Due to data being mostly more than three-dimensional, we perform dimensionality reduction methods like PCA or Laplacian Eigenmaps before applying a clustering technique. The data is then available in 2D or 3D and this allows us to visualize the found clusters very nicely to humans.\n",
        "\n",
        "### K-Means\n",
        "\n",
        "- K-Means performs three steps. But first you need to pre-define the number of K. Those cluster points are often called Centroids.\n",
        "\n",
        "    1) (Re-)assign each data point to its nearest centroid, by calculating the euclidian distance between all points to all centroids.\n",
        "\n",
        "    2) Calculate the mean for each centroid based on all respective data points and move the centroid in the middle of all his assigned data points.\n",
        "\n",
        "    3) Go to 1) until the convergence criterion is fulfilled. In my case, I calculate the within-cluster distance between all points to the re-assigned centroid mean. After a new iteration, if all centroids together moved less than 0.01, so basically nothing happens anymore, the convergence criterion is performed.\n",
        "\n",
        "\n",
        "### Gap Statistic\n",
        "- Even if Gap-Statistics is a good approach to finding a suitable K, it is still not perfect. For example, we needed to introduce a new hyperparameter, namely the number of K for which the W_uniform is simulated on. We can’t be sure what the ideal value for this is. Furthermore, the random initialization of the centroids can lead to an over- or underestimation of K*.\n",
        "\n",
        "- But by knowing all of the aspects of Gap-Statistics, the best is to apply it and then run the Gap-Statistic plot a couple of times. Taking the average of the Gap-Statistics can be an increased evaluation criterion.\n",
        "\n",
        "Reference: [K-means Cluster Analysis](https://uc-r.github.io/kmeans_clustering#gap)\n",
        "\n",
        "- We can use Gap Statistic Method for any of the clustering methods like K-means, hierarchical clustering, etc. Using the gap statistic, one can compare the total intracluster variation for different values of k along with their expected values under the null reference distribution of data. With the help of Monte Carlo simulations, one can produce the sample dataset. For each variable in the dataset, we can calculate the range between min(xi) and max (xj) through which we can produce values uniformly from interval lower bound to upper bound.\n",
        "\n",
        "- For computing the gap statistics method we can utilize the clusGap function for providing gap statistics as well as standard error for a given output."
      ],
      "metadata": {
        "id": "EKov4Y_7ne2d"
      }
    },
    {
      "cell_type": "code",
      "source": [
        "set.seed(125)\n",
        "stat_gap <- clusGap(customer_data[,3:5], FUN = kmeans, nstart = 25,\n",
        "            K.max = 10, B = 50)\n",
        "fviz_gap_stat(stat_gap)"
      ],
      "metadata": {
        "execution": {
          "iopub.status.busy": "2024-05-17T07:58:35.954858Z",
          "iopub.execute_input": "2024-05-17T07:58:35.956373Z",
          "iopub.status.idle": "2024-05-17T07:58:39.457248Z"
        },
        "trusted": true,
        "id": "oZpss1tzne2d"
      },
      "execution_count": null,
      "outputs": []
    },
    {
      "cell_type": "markdown",
      "source": [
        "### And now take k = 6 as our optimal cluster:"
      ],
      "metadata": {
        "id": "rHaFtp3Ene2d"
      }
    },
    {
      "cell_type": "code",
      "source": [
        "k6<-kmeans(customer_data[,3:5],6,iter.max=100,nstart=50,algorithm=\"Lloyd\")\n",
        "k6"
      ],
      "metadata": {
        "execution": {
          "iopub.status.busy": "2024-05-17T07:58:39.459862Z",
          "iopub.execute_input": "2024-05-17T07:58:39.461399Z",
          "iopub.status.idle": "2024-05-17T07:58:39.486178Z"
        },
        "trusted": true,
        "id": "qSUwCkl8ne2d"
      },
      "execution_count": null,
      "outputs": []
    },
    {
      "cell_type": "markdown",
      "source": [
        "### We see several expressions in the output of the k-means operation, from which we can conclude useful information:\n",
        "- cluster – This is a vector of several integers that denote the cluster which has an allocation of each point.\n",
        "- totss – This represents the total sum of squares.\n",
        "- centers – Matrix comprising of several cluster centers\n",
        "- withinss – This is a vector representing the intra-cluster sum of squares having one component per cluster.\n",
        "- tot.withinss – This denotes the total intra-cluster sum of squares.\n",
        "- betweenss – This is the sum of between-cluster squares.\n",
        "- size – The total number of points that each cluster holds."
      ],
      "metadata": {
        "id": "32oP6BiRne2d"
      }
    },
    {
      "cell_type": "markdown",
      "source": [
        "# Visualizing the Clustering Results"
      ],
      "metadata": {
        "id": "woe7ZKBBne2d"
      }
    },
    {
      "cell_type": "code",
      "source": [
        "# Visualizing the Clustering Results using the First Two Principle Components\n",
        "pcclust=prcomp(customer_data[,3:5],scale=FALSE) #principal component analysis\n",
        "summary(pcclust)\n",
        "\n",
        "pcclust$rotation[,1:2]"
      ],
      "metadata": {
        "execution": {
          "iopub.status.busy": "2024-05-17T07:58:39.488658Z",
          "iopub.execute_input": "2024-05-17T07:58:39.490939Z",
          "iopub.status.idle": "2024-05-17T07:58:39.536569Z"
        },
        "trusted": true,
        "id": "AQQNlnjXne2d"
      },
      "execution_count": null,
      "outputs": []
    },
    {
      "cell_type": "code",
      "source": [
        "# Visualize the clusters\n",
        "set.seed(1)\n",
        "ggplot(customer_data, aes(x =Annual.Income..k.., y = Spending.Score..1.100.)) +\n",
        "  geom_point(stat = \"identity\", aes(color = as.factor(k6$cluster))) +\n",
        "  scale_color_discrete(name=\" \",\n",
        "              breaks=c(\"1\", \"2\", \"3\", \"4\", \"5\",\"6\"),\n",
        "              labels=c(\"Cluster 1\", \"Cluster 2\", \"Cluster 3\", \"Cluster 4\", \"Cluster 5\",\"Cluster 6\")) +\n",
        "  ggtitle(\"Segments of Mall Customers\", subtitle = \"Using K-means Clustering\")"
      ],
      "metadata": {
        "execution": {
          "iopub.status.busy": "2024-05-17T07:58:39.539185Z",
          "iopub.execute_input": "2024-05-17T07:58:39.540771Z",
          "iopub.status.idle": "2024-05-17T07:58:40.067968Z"
        },
        "trusted": true,
        "id": "Y-LnsC_Ene2e"
      },
      "execution_count": null,
      "outputs": []
    },
    {
      "cell_type": "markdown",
      "source": [
        "#### From the above visualization, we observe that there is a distribution of 6 clusters as follows:\n",
        "\n",
        "    - Clusters 6 and 4 – These clusters represent the customer_data with the medium income salary as well as the medium annual spend of salary.\n",
        "\n",
        "    - Cluster 1 – This cluster represents the customer_data having a high annual income as well as a high annual spend.\n",
        "\n",
        "    - Cluster 3 – This cluster denotes the customer_data with low annual income as well as low yearly spending of income.\n",
        "\n",
        "    - Cluster 2 – This cluster denotes a high annual income and low yearly spending.\n",
        "\n",
        "    - Cluster 5 – This cluster represents a low annual income but a high yearly expenditure."
      ],
      "metadata": {
        "id": "s5Lohn86ne2e"
      }
    },
    {
      "cell_type": "markdown",
      "source": [
        "# Segments of Mall Customers"
      ],
      "metadata": {
        "id": "eMa6e5snne2e"
      }
    },
    {
      "cell_type": "code",
      "source": [
        "ggplot(customer_data, aes(x =Spending.Score..1.100., y =Age)) +\n",
        "  geom_point(stat = \"identity\", aes(color = as.factor(k6$cluster))) +\n",
        "  scale_color_discrete(name=\" \",\n",
        "                      breaks=c(\"1\", \"2\", \"3\", \"4\", \"5\",\"6\"),\n",
        "                      labels=c(\"Cluster 1\", \"Cluster 2\", \"Cluster 3\", \"Cluster 4\", \"Cluster 5\",\"Cluster 6\")) +\n",
        "  ggtitle(\"Segments of Mall Customers\", subtitle = \"Using K-means Clustering\")"
      ],
      "metadata": {
        "execution": {
          "iopub.status.busy": "2024-05-17T07:58:40.071971Z",
          "iopub.execute_input": "2024-05-17T07:58:40.073938Z",
          "iopub.status.idle": "2024-05-17T07:58:40.533978Z"
        },
        "trusted": true,
        "id": "_Mb70_zVne2e"
      },
      "execution_count": null,
      "outputs": []
    },
    {
      "cell_type": "code",
      "source": [
        "kCols=function(vec){cols=rainbow (length (unique (vec)))\n",
        "return (cols[as.numeric(as.factor(vec))])}\n",
        "digCluster<-k6$cluster; dignm<-as.character(digCluster); # K-means clusters\n",
        "plot(pcclust$x[,1:2], col =kCols(digCluster),pch =19,xlab =\"K-means\",ylab=\"classes\")\n",
        "legend(\"bottomleft\",unique(dignm),fill=unique(kCols(digCluster)))"
      ],
      "metadata": {
        "execution": {
          "iopub.status.busy": "2024-05-17T07:58:40.536464Z",
          "iopub.execute_input": "2024-05-17T07:58:40.538067Z",
          "iopub.status.idle": "2024-05-17T07:58:40.662143Z"
        },
        "trusted": true,
        "id": "xtU-tINVne2e"
      },
      "execution_count": null,
      "outputs": []
    },
    {
      "cell_type": "markdown",
      "source": [
        "#### From the above visualization, we observe that there is a distribution of 6 clusters as follows:\n",
        "\n",
        "- Cluster 4 and 1 – These two clusters consist of customers with medium PCA1 and medium PCA2 score.\n",
        "\n",
        "- Cluster 6 – This cluster represents customers having a high PCA2 and a low PCA1.\n",
        "\n",
        "- Cluster 5 – In this cluster, there are customers with a medium PCA1 and a low PCA2 score.\n",
        "\n",
        "- Cluster 3 – This cluster comprises of customers with a high PCA1 income and a high PCA2.\n",
        "\n",
        "- Cluster 2 – This comprises of customers with a high PCA2 and a medium annual spend of income."
      ],
      "metadata": {
        "id": "b2o3fAZCne2e"
      }
    },
    {
      "cell_type": "markdown",
      "source": [
        "# Summary\n",
        "- With the help of clustering, we can understand the variables much better, prompting us to take careful decisions. With the identification of customers, companies can release products and services that target customers based on several parameters like income, age, spending patterns, etc. Furthermore, more complex patterns like product reviews are taken into consideration for better segmentation."
      ],
      "metadata": {
        "id": "YXGdHYRHne2f"
      }
    }
  ]
}